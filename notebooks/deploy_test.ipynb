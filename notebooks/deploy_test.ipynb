{
 "cells": [
  {
   "cell_type": "code",
   "execution_count": 3,
   "metadata": {},
   "outputs": [],
   "source": [
    "from flask import Flask, request, jsonify\n",
    "import requests\n",
    "import os\n",
    "import csv\n",
    "from dotenv import load_dotenv\n",
    "from PIL import Image,ImageDraw\n",
    "from io import BytesIO\n",
    "from roboflow import Roboflow\n",
    "from models import Prediction  # Import the Prediction class\n",
    "from utils import draw_bounding_boxes, calculate_total_price, load_prices, preprocess  # Import functions from utils.py"
   ]
  },
  {
   "cell_type": "code",
   "execution_count": 4,
   "metadata": {},
   "outputs": [
    {
     "name": "stdout",
     "output_type": "stream",
     "text": [
      "loading Roboflow workspace...\n",
      "loading Roboflow project...\n",
      "{'predictions': [{'x': 353, 'y': 507, 'width': 594, 'height': 702, 'confidence': 0.47958603501319885, 'class': 'Lawnmower', 'class_id': 7, 'detection_id': '3eced98a-c0fc-41a5-aff4-ebbecbb43eff', 'image_path': './files/test1.jpg', 'prediction_type': 'ObjectDetectionModel'}], 'image': {'width': '728', 'height': '960'}}\n",
      "15.0\n"
     ]
    },
    {
     "data": {
      "text/plain": [
       "0"
      ]
     },
     "execution_count": 4,
     "metadata": {},
     "output_type": "execute_result"
    }
   ],
   "source": [
    "from roboflow import Roboflow\n",
    "rf = Roboflow(api_key=\"JQJQN8AUYAWhVEHwcIOv\")\n",
    "project = rf.workspace().project(\"dataset-waste-ddyct\")\n",
    "model = project.version(1).model\n",
    "\n",
    "img_byte_arr, original_width, original_height = preprocess(\"./files/test1.jpg\")\n",
    "\n",
    "predictions_data = model.predict(\"./files/test1.jpg\", confidence=40, overlap=30).json()\n",
    "print(predictions_data)\n",
    "predictions_list = []\n",
    "for pred in predictions_data['predictions']:\n",
    "            prediction = Prediction(\n",
    "                x=pred['x'],\n",
    "                y=pred['y'],\n",
    "                width=pred['width'],\n",
    "                height=pred['height'],\n",
    "                confidence=pred['confidence'],\n",
    "                class_name=pred['class'],\n",
    "                class_id=pred['class_id'],\n",
    "                detection_id=pred['detection_id'],\n",
    "                image_path=pred['image_path']\n",
    "            )\n",
    "            predictions_list.append(prediction)\n",
    "    \n",
    "prices = load_prices()\n",
    "\n",
    "total_price = calculate_total_price(predictions_list, prices)\n",
    "\n",
    "print(total_price)\n",
    "\n",
    "    # Prepare the image with bounding boxes\n",
    "image = Image.open(\"./files/test1.jpg\")\n",
    "image_with_bboxes = draw_bounding_boxes(image, predictions_list, original_width, original_height)\n",
    "image_with_bboxes.save('imagebbx.jpg', format='JPEG')\n",
    "\n",
    "    # Save the image with bounding boxes to a byte buffer\n",
    "img_byte_arr_with_bboxes = BytesIO()\n",
    "image_with_bboxes.save(img_byte_arr_with_bboxes, format='JPEG')\n",
    "img_byte_arr_with_bboxes.seek(0)\n",
    "# infer on a local image\n",
    "# predicitions = model.predict(\"464836539_936312811736506_4336630575233373391_n.jpg\", confidence=40, overlap=30).json()\n",
    "# print(predicitions)\n",
    "\n",
    "# visualize your prediction\n",
    "# model.predict(\"your_image.jpg\", confidence=40, overlap=30).save(\"prediction.jpg\")\n",
    "\n",
    "# infer on an image hosted elsewhere\n",
    "# print(model.predict(\"URL_OF_YOUR_IMAGE\", hosted=True, confidence=40, overlap=30).json())"
   ]
  }
 ],
 "metadata": {
  "kernelspec": {
   "display_name": "Python 3",
   "language": "python",
   "name": "python3"
  },
  "language_info": {
   "codemirror_mode": {
    "name": "ipython",
    "version": 3
   },
   "file_extension": ".py",
   "mimetype": "text/x-python",
   "name": "python",
   "nbconvert_exporter": "python",
   "pygments_lexer": "ipython3",
   "version": "3.11.0"
  }
 },
 "nbformat": 4,
 "nbformat_minor": 2
}
