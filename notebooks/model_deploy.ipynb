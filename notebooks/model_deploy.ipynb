{
 "cells": [
  {
   "cell_type": "code",
   "execution_count": 1,
   "metadata": {},
   "outputs": [],
   "source": [
    "from flask import Flask, request, jsonify\n",
    "import requests\n",
    "import os\n",
    "import csv\n",
    "from dotenv import load_dotenv\n",
    "from PIL import Image,ImageDraw\n",
    "from io import BytesIO\n",
    "from roboflow import Roboflow\n",
    "from models import Prediction  # Import the Prediction class\n",
    "from utils import draw_bounding_boxes, calculate_total_price, load_prices, preprocess  # Import functions from utils.py\n",
    "\n"
   ]
  },
  {
   "cell_type": "code",
   "execution_count": 2,
   "metadata": {},
   "outputs": [
    {
     "name": "stdout",
     "output_type": "stream",
     "text": [
      " * Serving Flask app 'waste_model'\n",
      " * Debug mode: on\n"
     ]
    },
    {
     "name": "stderr",
     "output_type": "stream",
     "text": [
      "WARNING: This is a development server. Do not use it in a production deployment. Use a production WSGI server instead.\n",
      " * Running on http://127.0.0.1:5000\n",
      "Press CTRL+C to quit\n",
      " * Restarting with stat\n"
     ]
    },
    {
     "ename": "SystemExit",
     "evalue": "1",
     "output_type": "error",
     "traceback": [
      "An exception has occurred, use %tb to see the full traceback.\n",
      "\u001b[1;31mSystemExit\u001b[0m\u001b[1;31m:\u001b[0m 1\n"
     ]
    },
    {
     "name": "stderr",
     "output_type": "stream",
     "text": [
      "To exit: use 'exit', 'quit', or Ctrl-D.\n"
     ]
    }
   ],
   "source": [
    "# Load environment variables from .env file\n",
    "load_dotenv()\n",
    "\n",
    "app = Flask(\"waste_model\")\n",
    "\n",
    "# Retrieve API key and model endpoint from environment variables\n",
    "ROBOFLOW_API_KEY = os.getenv('ROBOFLOW_API_KEY')\n",
    "PROJECT_MODEL = os.getenv('PROJECT_MODEL')\n",
    "MODEL_VERSION=os.getenv('MODEL_VERSION')\n",
    "\n",
    "@app.route('/predict', methods=['POST'])\n",
    "def predict():\n",
    "    # Check if an image file is included in the request\n",
    "    if 'file' not in request.files:\n",
    "        return jsonify({\"error\": \"No file part\"}), 400\n",
    "    \n",
    "    # Retrieve the image file from the request\n",
    "    file = request.files['file']\n",
    "\n",
    "    # Preprocess the image\n",
    "    img_byte_arr, original_width, original_height = preprocess(file)\n",
    "    \n",
    "    # If there was an error during preprocessing, return the error message\n",
    "    if img_byte_arr is None:\n",
    "        return jsonify({\"error\": f\"Error processing image: {original_height}\"}), 400\n",
    "\n",
    "    # Send the preprocessed image to the Roboflow API\n",
    "    rf = Roboflow(api_key=ROBOFLOW_API_KEY)\n",
    "    project = rf.workspace().project(PROJECT_MODEL)\n",
    "    model = project.version(MODEL_VERSION).model\n",
    "    predictions_data = model.predict(\"image.jpg\", confidence=40, overlap=30).json()\n",
    "\n",
    "    predictions_list = []\n",
    "    for pred in predictions_data['predictions']:\n",
    "            prediction = Prediction(\n",
    "                x=pred['x'],\n",
    "                y=pred['y'],\n",
    "                width=pred['width'],\n",
    "                height=pred['height'],\n",
    "                confidence=pred['confidence'],\n",
    "                class_name=pred['class'],\n",
    "                class_id=pred['class_id'],\n",
    "                detection_id=pred['detection_id'],\n",
    "                image_path=pred['image_path']\n",
    "            )\n",
    "            predictions_list.append(prediction)\n",
    "    \n",
    "    prices = load_prices()\n",
    "\n",
    "    total_price = calculate_total_price(predictions_list, prices)\n",
    "\n",
    "    # Prepare the image with bounding boxes\n",
    "    image = Image.open(file.stream)\n",
    "    image_with_bboxes = draw_bounding_boxes(image, predictions_list, original_width, original_height)\n",
    "\n",
    "    # Save the image with bounding boxes to a byte buffer\n",
    "    img_byte_arr_with_bboxes = BytesIO()\n",
    "    image_with_bboxes.save(img_byte_arr_with_bboxes, format='JPEG')\n",
    "    img_byte_arr_with_bboxes.seek(0)\n",
    "\n",
    "    response_data = {\n",
    "            \"total_price\": total_price\n",
    "        }\n",
    "    detected_classes = [pred.class_name for pred in predictions_list]\n",
    "\n",
    "    # Return total price as JSON and the image with bounding boxes\n",
    "    return jsonify({\"detected_classes\": detected_classes, \"total_price\": total_price}), 200\n",
    "\n",
    "\n",
    "if __name__ == '__main__':\n",
    "    app.run(debug=True)"
   ]
  }
 ],
 "metadata": {
  "kernelspec": {
   "display_name": "Python 3",
   "language": "python",
   "name": "python3"
  },
  "language_info": {
   "codemirror_mode": {
    "name": "ipython",
    "version": 3
   },
   "file_extension": ".py",
   "mimetype": "text/x-python",
   "name": "python",
   "nbconvert_exporter": "python",
   "pygments_lexer": "ipython3",
   "version": "3.11.0"
  }
 },
 "nbformat": 4,
 "nbformat_minor": 2
}
